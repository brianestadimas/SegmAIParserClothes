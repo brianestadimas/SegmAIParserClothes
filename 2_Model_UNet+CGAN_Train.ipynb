{
 "cells": [
  {
   "cell_type": "code",
   "execution_count": 1,
   "metadata": {},
   "outputs": [],
   "source": [
    "\n",
    "import pandas as pd\n",
    "from PIL import Image\n",
    "import matplotlib.pyplot as plt\n",
    "from torch.utils.data import DataLoader, ConcatDataset\n",
    "from torch.utils.data import Dataset\n",
    "import torch.optim as optim\n",
    "from torchvision import transforms\n",
    "import numpy as np\n",
    "import torch\n",
    "from torch import nn\n",
    "import os\n",
    "from torch.utils.data import DataLoader, random_split\n",
    "from torch.nn import DataParallel\n",
    "from torch.utils.data import Subset\n",
    "import shutil\n",
    "from codes.helpers import FocalLoss\n",
    "import cv2"
   ]
  },
  {
   "cell_type": "code",
   "execution_count": 2,
   "metadata": {},
   "outputs": [],
   "source": [
    "# Hyperparameters\n",
    "# We can adjust the learning_rate here to improve the model performance, scheduler is used to reduce the learning rate at specific epochs\n",
    "# The batch size can be adjusted based on the available memory\n",
    "# If apply_augmentations is set to True, the model will apply augmentations to the images to improve the model performance\n",
    "load_saved_model = False\n",
    "generator_name_to_load = \"generator.pth\"\n",
    "discriminator_name_to_load = \"discriminator.pth\"\n",
    "\n",
    "apply_augmentations = True\n",
    "training_epoch = 400\n",
    "batch_size = 32\n",
    "learning_rate = 0.0003\n",
    "momentum = 0.9\n",
    "weight_decay = 0.000005\n",
    "scheduler = 0\n",
    "\n",
    "device = \"cuda\"\n",
    "logdir = \"logs/\"\n",
    "resultdir = \"logs/results_gan/\"\n",
    "\n",
    "if os.path.exists(resultdir):\n",
    "    shutil.rmtree(resultdir)\n",
    "os.makedirs(resultdir)"
   ]
  },
  {
   "cell_type": "code",
   "execution_count": 3,
   "metadata": {},
   "outputs": [],
   "source": [
    "from torchvision import transforms\n",
    "from torch.utils.data import Dataset\n",
    "from PIL import Image\n",
    "import os\n",
    "import numpy as np\n",
    "\n",
    "def adjust_colors(img, color_mappings):\n",
    "    \"\"\"\n",
    "    Adjust the colors of an image based on specified mappings temporarily.\n",
    "    \"\"\"\n",
    "    # Ensure img is a numpy array\n",
    "    if not isinstance(img, np.ndarray):\n",
    "        raise ValueError(\"img must be a numpy array\")\n",
    "\n",
    "    # Copy the image to avoid modifying the original\n",
    "    adjusted_img = np.copy(img)\n",
    "\n",
    "    for source_color, target_color in color_mappings.items():\n",
    "        # Find all pixels matching the source color\n",
    "        mask = np.all(adjusted_img == source_color, axis=-1)\n",
    "\n",
    "        # Change those pixels to the target color\n",
    "        adjusted_img[mask] = target_color\n",
    "\n",
    "    return adjusted_img\n",
    "\n",
    "\n",
    "class Fashion_Data(Dataset):\n",
    "    def __init__(self, folder_train, folder_ground_truth, augmentation=None):\n",
    "        self.folder_train = folder_train\n",
    "        self.folder_ground_truth = folder_ground_truth\n",
    "        self.transform = transforms.Compose([transforms.Resize((512, 512)), transforms.ToTensor()]) if augmentation is None \\\n",
    "                            else transforms.Compose([augmentation, transforms.Resize((512, 512)), transforms.ToTensor()])\n",
    "        \n",
    "        self.filenames = [f for f in os.listdir(folder_train) if os.path.isfile(os.path.join(folder_train, f))]\n",
    "\n",
    "    def __len__(self):\n",
    "        return len(self.filenames)\n",
    "\n",
    "    def __getitem__(self, idx):\n",
    "        img_name_train = os.path.join(self.folder_train, self.filenames[idx])\n",
    "        img_name_gt = os.path.join(self.folder_ground_truth, self.filenames[idx])\n",
    "\n",
    "        img_train = Image.open(img_name_train).convert('RGB')\n",
    "        img_gt = Image.open(img_name_gt).convert('RGB')\n",
    "\n",
    "        # Adjust the colors of the ground truth image before transforming to tensor\n",
    "        # img_gt_np = np.array(img_gt)\n",
    "        # color_mappings = {\n",
    "        #     (22, 22, 22): (255, 0, 0),    # Left arm to red\n",
    "        #     (21, 21, 21): (0, 255, 0),    # Right arm to green\n",
    "        #     (5, 5, 5): (255, 255, 255),   # Chest/middle to white\n",
    "        #     (24, 24, 24): (0, 0, 255),    # Collar to blue\n",
    "        #     (25, 25, 25): (255, 255, 0)   # Body back parts to orange\n",
    "        # }\n",
    "        # img_gt_np = adjust_colors(img_gt_np, color_mappings)\n",
    "        # img_gt = Image.fromarray(img_gt_np)\n",
    "\n",
    "        if self.transform:\n",
    "            img_train = self.transform(img_train)\n",
    "            img_gt = self.transform(img_gt)\n",
    "\n",
    "        return img_train, img_gt\n"
   ]
  },
  {
   "cell_type": "code",
   "execution_count": 4,
   "metadata": {},
   "outputs": [],
   "source": [
    "train_folder = \"dataset/upper/cloth_align\"\n",
    "gt_folder = \"dataset/upper/cloth_align_parse-bytedance\"\n",
    "\n",
    "full_set = Fashion_Data(train_folder, gt_folder)\n",
    "\n",
    "# We want to validate model using fraction dataset (how many percent parts of the dataset will be used)\n",
    "fraction_size = 0.15\n",
    "# Calculate sizes\n",
    "full_dataset_size = len(full_set)\n",
    "subset_size = int(fraction_size * full_dataset_size)  # Total size of the subset to use\n",
    "\n",
    "# Create indices for the subset\n",
    "subset_indices = torch.randperm(full_dataset_size)[:subset_size].tolist()\n",
    "\n",
    "# Create a subset based on the indices\n",
    "subset = Subset(full_set, subset_indices)\n",
    "\n",
    "# Now, calculate train and test sizes for the subset\n",
    "train_size = int(0.95 * len(subset))  # 90% of the subset size\n",
    "test_size = len(subset) - train_size  # The rest for testing\n",
    "\n",
    "# Split the subset into train and test\n",
    "train_dataset, test_dataset = random_split(subset, [train_size, test_size], generator=torch.Generator().manual_seed(42))\n"
   ]
  },
  {
   "cell_type": "code",
   "execution_count": 5,
   "metadata": {},
   "outputs": [],
   "source": [
    "# Section for data augmentation\n",
    "from albumentations import (\n",
    "    GridDistortion, RandomBrightnessContrast, RGBShift, ShiftScaleRotate, ColorJitter, GaussNoise\n",
    ")\n",
    "\n",
    "augmentation1 = transforms.Compose([\n",
    "    GridDistortion(p=0.5),\n",
    "    RandomBrightnessContrast(p=0.5),\n",
    "    RGBShift(p=0.5),\n",
    "    ShiftScaleRotate(p=0.5),\n",
    "    ColorJitter(p=0.5),\n",
    "    GaussNoise(p=0.5)\n",
    "])\n",
    "augmentation2 = transforms.Compose([\n",
    "    GridDistortion(p=0.5),\n",
    "    RandomBrightnessContrast(p=0.5),\n",
    "    RGBShift(p=0.5),\n",
    "])\n",
    "\"\"\"In our approach we use the next augmentation methods:\n",
    "GridDistortion\n",
    "RandomBrightnessContrast\n",
    "RGBShift\n",
    "ShiftScaleRotate\n",
    "ColorJitter\n",
    "GaussNoise\n",
    "We chose these methods because they almost all make color changes, which helps the model to detect objects by features, not by color, and also use scale \n",
    "changing and rotating with specific parameters that crop background without touching cloth and rotate them.\"\"\"\n",
    "\n",
    "if apply_augmentations:\n",
    "    half = len(train_dataset) // 2\n",
    "    train_dataset1, train_dataset2 = random_split(train_dataset, [half, len(train_dataset)-half], generator=torch.Generator().manual_seed(42))\n",
    "    augmentation1 = train_dataset1.dataset.transform = transforms.Compose([augmentation1, transforms.Resize((512, 512)), transforms.ToTensor()])\n",
    "    augmentation2 = train_dataset2.dataset.transform = transforms.Compose([augmentation1, transforms.Resize((512, 512)), transforms.ToTensor()])\n",
    "    train_dataset = ConcatDataset([train_dataset, train_dataset1, train_dataset2])"
   ]
  },
  {
   "cell_type": "code",
   "execution_count": 6,
   "metadata": {},
   "outputs": [
    {
     "name": "stdout",
     "output_type": "stream",
     "text": [
      "Train size: 4376, Test size: 116\n",
      "Shape of the images: torch.Size([3, 512, 512])\n"
     ]
    },
    {
     "data": {
      "image/png": "[encoded data removed]",
      "text/plain": [
       "<Figure size 1000x500 with 2 Axes>"
      ]
     },
     "metadata": {},
     "output_type": "display_data"
    }
   ],
   "source": [
    "dataloader_train = DataLoader(train_dataset, batch_size=batch_size, shuffle=True, num_workers=8, pin_memory=True)\n",
    "dataloader_test = DataLoader(test_dataset, batch_size=batch_size, shuffle=True, num_workers=8, pin_memory=True)\n",
    "\n",
    "print(f'Train size: {len(train_dataset)}, Test size: {len(test_dataset)}')\n",
    "\n",
    "# Get the example image from the train dataset\n",
    "first_image_train, first_image_gt = train_dataset[10]\n",
    "print(f'Shape of the images: {first_image_train.shape}')\n",
    "\n",
    "# Plot the first image side by side\n",
    "fig, axes = plt.subplots(1, 2, figsize=(10, 5))\n",
    "axes[0].imshow(first_image_train.permute(1, 2, 0))\n",
    "axes[0].set_title('Input Image')\n",
    "axes[1].imshow(first_image_gt.permute(1, 2, 0))\n",
    "axes[1].set_title('Ground Truth')\n",
    "plt.show()"
   ]
  },
  {
   "cell_type": "code",
   "execution_count": 7,
   "metadata": {},
   "outputs": [],
   "source": [
    "# The diagram is provided to understand the architecture\n",
    "from architecture.discriminator import Discriminator\n",
    "from architecture.generator import Generator\n",
    "\n",
    "\n",
    "discriminator = Discriminator(in_channels=3).to(device)\n",
    "generator = Generator(in_channels=3).to(device)\n",
    "optimizer_disc = optim.Adam(discriminator.parameters(), lr=learning_rate, weight_decay=weight_decay)\n",
    "optimizer_gen = optim.Adam(generator.parameters(), lr=learning_rate, weight_decay=weight_decay)"
   ]
  },
  {
   "cell_type": "code",
   "execution_count": 8,
   "metadata": {},
   "outputs": [
    {
     "name": "stdout",
     "output_type": "stream",
     "text": [
      "torch.Size([32, 3, 512, 512])\n"
     ]
    }
   ],
   "source": [
    "# The code to make sure the model input and output are correct, we can test the first batch to fed into the network\n",
    "data = next(iter(dataloader_train))\n",
    "\n",
    "test_data = data[0]\n",
    "output_test = generator(test_data.to(device))\n",
    "print(output_test.shape)"
   ]
  },
  {
   "cell_type": "code",
   "execution_count": 9,
   "metadata": {},
   "outputs": [],
   "source": [
    "def categorize_and_recolor_image(image_path):\n",
    "    img = Image.open(image_path)\n",
    "    data = np.array(img)\n",
    "\n",
    "    # Check if image has an alpha channel; if so, ignore it in processing\n",
    "    if data.shape[2] == 4:\n",
    "        data = data[:, :, :3]\n",
    "\n",
    "    height, width, _ = data.shape\n",
    "    # Initialize a mask to keep track of already processed (recategorized) pixels\n",
    "    processed_mask = np.zeros((height, width), dtype=bool)\n",
    "\n",
    "    threshold_rg = 5  # Threshold for R-G and R-B for red-ish, including browns and purples\n",
    "    threshold_w = 220  # Threshold for identifying white-ish pixels\n",
    "    threshold_yg = 5  # Additional threshold for yellow, ensuring G is close to R and B is low\n",
    "\n",
    "    # Define functions for each color categorization to improve readability\n",
    "    def apply_mask(condition, new_color):\n",
    "        nonlocal processed_mask\n",
    "        mask = condition & ~processed_mask\n",
    "        data[mask] = new_color\n",
    "        processed_mask |= mask\n",
    "\n",
    "    # White-ish\n",
    "    white_condition = (data[:, :, 0] > threshold_w) & (data[:, :, 1] > threshold_w) & (data[:, :, 2] > threshold_w)\n",
    "    apply_mask(white_condition, [5, 5, 5])\n",
    "\n",
    "    # Yellow-ish\n",
    "    yellow_condition = (data[:, :, 0] > data[:, :, 2] + threshold_yg) & (np.abs(data[:, :, 0] - data[:, :, 1]) < threshold_yg)\n",
    "    apply_mask(yellow_condition, [25, 25, 25])\n",
    "\n",
    "    # Red-ish (including browns and purples)\n",
    "    red_condition = (data[:, :, 0] > data[:, :, 1] + threshold_rg) & (data[:, :, 0] > data[:, :, 2] + threshold_rg)\n",
    "    apply_mask(red_condition, [22, 22, 22])\n",
    "\n",
    "    # Green-ish\n",
    "    green_condition = (data[:, :, 1] > data[:, :, 0] + threshold_rg) & (data[:, :, 1] > data[:, :, 2] + threshold_rg)\n",
    "    apply_mask(green_condition, [21, 21, 21])\n",
    "\n",
    "    # Blue-ish\n",
    "    blue_condition = (data[:, :, 2] > data[:, :, 0] + threshold_rg) & (data[:, :, 2] > data[:, :, 1] + threshold_rg)\n",
    "    apply_mask(blue_condition, [24, 24, 24])\n",
    "    \n",
    "    \n",
    "    # Convert back to PIL Image for output\n",
    "    new_img = Image.fromarray(data)\n",
    "    return new_img"
   ]
  },
  {
   "cell_type": "code",
   "execution_count": 10,
   "metadata": {},
   "outputs": [],
   "source": [
    "from tqdm import tqdm\n",
    "import torch.cuda.amp as amp\n",
    "from torchvision.utils import save_image\n",
    "\n",
    "class Engine(object):\n",
    "    def __init__(self, discriminator, generator, optimizer_disc, optimizer_gen, device, ema=None):\n",
    "        # Initialize the Engine with the model, optimizer, and the device it's running on.\n",
    "        self.discriminator = discriminator\n",
    "        self.generator = generator\n",
    "        self.optimizer_disc = optimizer_disc\n",
    "        self.optimizer_gen = optimizer_gen\n",
    "        self.device = device\n",
    "        # Current epoch of training.\n",
    "        self.cur_epoch = 0\n",
    "        # Number of iterations the training has run.\n",
    "        self.cur_iter = 0\n",
    "        # The best validation epoch, used to track the epoch with the best validation performance.\n",
    "        self.bestval_epoch = 0\n",
    "        # Lists to track the training and validation losses.\n",
    "        self.train_loss_disc = []\n",
    "        self.train_loss_gen = []\n",
    "        self.val_loss_disc = []\n",
    "        self.val_loss_gen = []\n",
    "        # Gradient scalers for mixed precision training\n",
    "        self.g_scaler = amp.GradScaler()\n",
    "        self.d_scaler = amp.GradScaler()\n",
    "        # Criterion for calculating loss. Here, it's Mean Squared Error Loss for regression tasks.\n",
    "        self.criterion_bce = torch.nn.BCEWithLogitsLoss()\n",
    "        self.criterion_l1 = torch.nn.L1Loss()\n",
    "        self.l1_lambda = 100\n",
    "\n",
    "    \"\"\" Block to begin training \"\"\"\n",
    "    def train(self, dataloader_train):\n",
    "        self.discriminator.train()\n",
    "        self.generator.train()\n",
    "        \n",
    "        disc_loss_epoch = 0.\n",
    "        gen_loss_epoch = 0.\n",
    "        num_batches = 0\n",
    "        \n",
    "        # Train loop\n",
    "        # tqdm is used to display the training progress for each epoch.\n",
    "        pbar = tqdm(dataloader_train, desc='Train Epoch {}'.format(self.cur_epoch))\n",
    "        \n",
    "        # X is image, Y is target image\n",
    "        for idx, (x, y) in enumerate(pbar):\n",
    "            x, y = x.to(self.device, dtype=torch.float32), y.to(self.device, dtype=torch.float32)\n",
    "            with torch.cuda.amp.autocast():\n",
    "                y_fake = generator(x)\n",
    "                D_real = discriminator(x, y)\n",
    "                D_fake = discriminator(x, y_fake.detach())\n",
    "                D_real_loss = self.criterion_bce(D_real, torch.ones_like(D_real))\n",
    "                D_fake_loss = self.criterion_bce(D_fake, torch.zeros_like(D_fake))\n",
    "                D_loss = (D_real_loss + D_fake_loss) / 2\n",
    "            \n",
    "            self.optimizer_disc.zero_grad()\n",
    "            self.d_scaler.scale(D_loss).backward()\n",
    "            self.d_scaler.step(self.optimizer_disc)\n",
    "            self.d_scaler.update()\n",
    "            \n",
    "            with torch.cuda.amp.autocast():\n",
    "                D_fake = discriminator(x, y_fake)\n",
    "                G_fake_loss = self.criterion_bce(D_fake, torch.ones_like(D_fake))\n",
    "                L1 = self.criterion_l1(y_fake, y) * self.l1_lambda\n",
    "                G_loss = G_fake_loss + L1\n",
    "            \n",
    "            self.optimizer_gen.zero_grad()\n",
    "            self.g_scaler.scale(G_loss).backward()\n",
    "            self.g_scaler.step(self.optimizer_gen)\n",
    "            self.g_scaler.update()\n",
    "            \n",
    "            num_batches += 1\n",
    "            disc_loss_epoch += float(D_loss.item())\n",
    "            gen_loss_epoch += float(G_loss.item())\n",
    "            pbar.set_description(\"D-Loss: {:.6f}, G-Loss: {:.6f}\".format(D_loss.item(), G_loss.item()))\n",
    "            \n",
    "        pbar.close()\n",
    "        avg_disc_loss = disc_loss_epoch / num_batches\n",
    "        avg_gen_loss = gen_loss_epoch / num_batches\n",
    "        self.train_loss_disc.append(avg_disc_loss)\n",
    "        self.train_loss_gen.append(avg_gen_loss)\n",
    "\n",
    "        self.cur_epoch += 1\n",
    "        pbar.set_description(\"Epoch: {:.3f}, Avg D-Lose: {:.6f}, Avg G-Lose: {:.6f}\".format(self.cur_epoch, avg_disc_loss, avg_gen_loss))\n",
    "        \n",
    "    def test(self, dataloader_test):\n",
    "        self.discriminator.eval()\n",
    "        self.generator.eval()\n",
    "        disc_loss_epoch = 0.\n",
    "        gen_loss_epoch = 0.\n",
    "        num_batches = 0\n",
    "        \n",
    "        # Ensure the results directory exists\n",
    "        epoch_result_dir = os.path.join(resultdir, str(self.cur_epoch))\n",
    "        os.makedirs(epoch_result_dir, exist_ok=True)\n",
    "        os.makedirs(f\"{epoch_result_dir}/parse\", exist_ok=True)\n",
    "        os.makedirs(f\"{epoch_result_dir}/mask\", exist_ok=True)\n",
    "        \n",
    "        with torch.no_grad():\n",
    "            pbar = tqdm(dataloader_test, desc='Test Epoch {}'.format(self.cur_epoch))\n",
    "            for idx, (x, y) in enumerate(pbar):\n",
    "                x, y = x.to(self.device, dtype=torch.float32), y.to(self.device, dtype=torch.float32)\n",
    "                \n",
    "                y_fake = self.generator(x)\n",
    "                D_real = self.discriminator(x, y)\n",
    "                D_fake = self.discriminator(x, y_fake)\n",
    "                \n",
    "                D_real_loss = self.criterion_bce(D_real, torch.ones_like(D_real))\n",
    "                D_fake_loss = self.criterion_bce(D_fake, torch.zeros_like(D_fake))\n",
    "                D_loss = (D_real_loss + D_fake_loss) / 2\n",
    "                G_loss = self.criterion_bce(D_fake, torch.ones_like(D_fake)) + self.criterion_l1(y_fake, y) * self.l1_lambda\n",
    "                \n",
    "                disc_loss_epoch += D_loss.item()\n",
    "                gen_loss_epoch += G_loss.item()\n",
    "                num_batches += 1\n",
    "\n",
    "                # Optionally save generated images for visual inspection\n",
    "                for j, gen_image in enumerate(y_fake):\n",
    "                    save_image(gen_image, os.path.join(epoch_result_dir, \"mask\", f\"generated_{idx}_{j}.png\"))\n",
    "                    \n",
    "                    # parsed_image = categorize_and_recolor_image(os.path.join(epoch_result_dir, \"mask\", f\"generated_{idx}_{j}.png\"))\n",
    "                    # parsed_image.save(os.path.join(epoch_result_dir, \"parse\", f\"generated_{idx}_{j}.png\"))\n",
    "                \n",
    "                pbar.set_description(f\"Test D-Loss: {D_loss.item():.6f}, Test G-Loss: {G_loss.item():.6f}\")\n",
    "            \n",
    "        avg_disc_loss = disc_loss_epoch / num_batches\n",
    "        avg_gen_loss = gen_loss_epoch / num_batches\n",
    "        self.val_loss_disc.append(avg_disc_loss)\n",
    "        self.val_loss_gen.append(avg_gen_loss)\n",
    "        \n",
    "        print(f\"Test Epoch:, Avg D-Loss: {avg_disc_loss:.6f}, Avg G-Loss: {avg_gen_loss:.6f}\")\n"
   ]
  },
  {
   "cell_type": "code",
   "execution_count": 11,
   "metadata": {},
   "outputs": [
    {
     "name": "stdout",
     "output_type": "stream",
     "text": [
      "======Total trainable parameters:  57183236\n"
     ]
    },
    {
     "name": "stderr",
     "output_type": "stream",
     "text": [
      "D-Loss: 0.030005, G-Loss: 7.380211: 100%|██████████| 137/137 [00:57<00:00,  2.40it/s] \n",
      "Test D-Loss: 1.021224, Test G-Loss: 7.690615: 100%|██████████| 4/4 [00:08<00:00,  2.01s/it]\n"
     ]
    },
    {
     "name": "stdout",
     "output_type": "stream",
     "text": [
      "Test Epoch:, Avg D-Loss: 1.057598, Avg G-Loss: 7.361402\n"
     ]
    },
    {
     "name": "stderr",
     "output_type": "stream",
     "text": [
      "D-Loss: 0.173036, G-Loss: 7.392326: 100%|██████████| 137/137 [00:55<00:00,  2.45it/s]\n",
      "D-Loss: 0.125020, G-Loss: 6.379441: 100%|██████████| 137/137 [00:56<00:00,  2.44it/s] \n",
      "D-Loss: 0.210875, G-Loss: 7.293900: 100%|██████████| 137/137 [00:56<00:00,  2.44it/s]\n",
      "D-Loss: 0.096616, G-Loss: 8.633654: 100%|██████████| 137/137 [00:56<00:00,  2.44it/s] \n",
      "D-Loss: 0.051986, G-Loss: 7.191372: 100%|██████████| 137/137 [00:56<00:00,  2.44it/s] \n",
      "D-Loss: 0.127382, G-Loss: 7.572042: 100%|██████████| 137/137 [00:56<00:00,  2.44it/s] \n",
      "D-Loss: 0.020152, G-Loss: 7.601254: 100%|██████████| 137/137 [00:55<00:00,  2.45it/s]\n",
      "D-Loss: 0.061779, G-Loss: 7.349085: 100%|██████████| 137/137 [00:56<00:00,  2.44it/s]\n",
      "D-Loss: 0.048960, G-Loss: 6.591540: 100%|██████████| 137/137 [00:56<00:00,  2.45it/s]\n",
      "D-Loss: 0.215590, G-Loss: 7.674283: 100%|██████████| 137/137 [00:56<00:00,  2.44it/s] \n",
      "Test D-Loss: 1.968888, Test G-Loss: 6.352530: 100%|██████████| 4/4 [00:06<00:00,  1.71s/it]\n"
     ]
    },
    {
     "name": "stdout",
     "output_type": "stream",
     "text": [
      "Test Epoch:, Avg D-Loss: 1.986029, Avg G-Loss: 6.539921\n"
     ]
    },
    {
     "name": "stderr",
     "output_type": "stream",
     "text": [
      "D-Loss: 0.050463, G-Loss: 6.650804: 100%|██████████| 137/137 [00:56<00:00,  2.44it/s] \n",
      "D-Loss: 0.053673, G-Loss: 9.822961: 100%|██████████| 137/137 [00:56<00:00,  2.44it/s] \n",
      "D-Loss: 0.057136, G-Loss: 6.697132: 100%|██████████| 137/137 [00:56<00:00,  2.44it/s]\n",
      "D-Loss: 0.007776, G-Loss: 8.659803: 100%|██████████| 137/137 [00:56<00:00,  2.44it/s] \n",
      "D-Loss: 0.045435, G-Loss: 8.835249: 100%|██████████| 137/137 [00:56<00:00,  2.44it/s] \n",
      "D-Loss: 0.024878, G-Loss: 6.857810: 100%|██████████| 137/137 [00:56<00:00,  2.44it/s]\n",
      "D-Loss: 0.003521, G-Loss: 8.285056: 100%|██████████| 137/137 [00:56<00:00,  2.45it/s]\n",
      "D-Loss: 0.003722, G-Loss: 7.662120: 100%|██████████| 137/137 [00:56<00:00,  2.45it/s]\n",
      "D-Loss: 0.012000, G-Loss: 7.264975: 100%|██████████| 137/137 [00:56<00:00,  2.44it/s]\n",
      "D-Loss: 0.076979, G-Loss: 7.508987: 100%|██████████| 137/137 [00:56<00:00,  2.45it/s] \n",
      "Test D-Loss: 1.952907, Test G-Loss: 5.256439: 100%|██████████| 4/4 [00:06<00:00,  1.68s/it]\n"
     ]
    },
    {
     "name": "stdout",
     "output_type": "stream",
     "text": [
      "Test Epoch:, Avg D-Loss: 1.916917, Avg G-Loss: 5.367573\n"
     ]
    },
    {
     "name": "stderr",
     "output_type": "stream",
     "text": [
      "D-Loss: 0.010859, G-Loss: 7.815469: 100%|██████████| 137/137 [00:56<00:00,  2.45it/s]\n",
      "D-Loss: 0.025748, G-Loss: 10.000278: 100%|██████████| 137/137 [00:55<00:00,  2.45it/s]\n",
      "D-Loss: 0.001181, G-Loss: 10.481565: 100%|██████████| 137/137 [00:55<00:00,  2.45it/s]\n",
      "D-Loss: 0.001651, G-Loss: 9.767534: 100%|██████████| 137/137 [00:56<00:00,  2.45it/s] \n",
      "D-Loss: 0.003701, G-Loss: 8.884544: 100%|██████████| 137/137 [00:55<00:00,  2.45it/s]\n",
      "D-Loss: 0.002633, G-Loss: 9.761784: 100%|██████████| 137/137 [00:55<00:00,  2.45it/s] \n",
      "D-Loss: 0.004314, G-Loss: 8.189280: 100%|██████████| 137/137 [00:56<00:00,  2.44it/s] \n",
      "D-Loss: 0.049477, G-Loss: 8.911155: 100%|██████████| 137/137 [00:56<00:00,  2.44it/s]\n",
      "D-Loss: 0.062578, G-Loss: 8.212690: 100%|██████████| 137/137 [00:56<00:00,  2.44it/s] \n",
      "D-Loss: 0.097600, G-Loss: 8.906061: 100%|██████████| 137/137 [00:55<00:00,  2.45it/s] \n",
      "Test D-Loss: 1.325172, Test G-Loss: 7.133776: 100%|██████████| 4/4 [00:05<00:00,  1.45s/it]\n"
     ]
    },
    {
     "name": "stdout",
     "output_type": "stream",
     "text": [
      "Test Epoch:, Avg D-Loss: 1.330178, Avg G-Loss: 6.792652\n"
     ]
    },
    {
     "name": "stderr",
     "output_type": "stream",
     "text": [
      "D-Loss: 0.197206, G-Loss: 15.725167: 100%|██████████| 137/137 [00:56<00:00,  2.44it/s]\n",
      "D-Loss: 0.007102, G-Loss: 11.346146: 100%|██████████| 137/137 [00:56<00:00,  2.45it/s]\n",
      "D-Loss: 0.003753, G-Loss: 11.910776: 100%|██████████| 137/137 [00:56<00:00,  2.45it/s]\n",
      "D-Loss: 0.009180, G-Loss: 13.357351: 100%|██████████| 137/137 [00:56<00:00,  2.45it/s]\n",
      "D-Loss: 0.025436, G-Loss: 11.669214: 100%|██████████| 137/137 [00:56<00:00,  2.45it/s]\n",
      "D-Loss: 0.234575, G-Loss: 9.401928: 100%|██████████| 137/137 [00:56<00:00,  2.44it/s] \n",
      "D-Loss: 0.011485, G-Loss: 10.180077: 100%|██████████| 137/137 [00:56<00:00,  2.44it/s]\n",
      "D-Loss: 0.002588, G-Loss: 11.601801: 100%|██████████| 137/137 [00:56<00:00,  2.45it/s]\n",
      "D-Loss: 0.001674, G-Loss: 9.352415: 100%|██████████| 137/137 [00:55<00:00,  2.45it/s] \n",
      "D-Loss: 0.019259, G-Loss: 9.239801: 100%|██████████| 137/137 [00:55<00:00,  2.45it/s] \n",
      "Test D-Loss: 2.425647, Test G-Loss: 8.425087: 100%|██████████| 4/4 [00:10<00:00,  2.66s/it]\n"
     ]
    },
    {
     "name": "stdout",
     "output_type": "stream",
     "text": [
      "Test Epoch:, Avg D-Loss: 2.249638, Avg G-Loss: 8.312155\n"
     ]
    },
    {
     "name": "stderr",
     "output_type": "stream",
     "text": [
      "D-Loss: 0.099100, G-Loss: 5.493256: 100%|██████████| 137/137 [00:55<00:00,  2.46it/s]\n",
      "D-Loss: 0.720521, G-Loss: 5.465897: 100%|██████████| 137/137 [00:55<00:00,  2.45it/s]\n",
      "D-Loss: 0.407796, G-Loss: 4.282131: 100%|██████████| 137/137 [00:55<00:00,  2.45it/s]\n",
      "D-Loss: 0.856710, G-Loss: 2.270930: 100%|██████████| 137/137 [00:55<00:00,  2.45it/s]\n",
      "D-Loss: 0.399871, G-Loss: 3.063715: 100%|██████████| 137/137 [00:55<00:00,  2.45it/s]\n",
      "D-Loss: 0.347010, G-Loss: 4.279618: 100%|██████████| 137/137 [00:55<00:00,  2.45it/s]\n",
      "D-Loss: 0.159237, G-Loss: 5.377841: 100%|██████████| 137/137 [00:55<00:00,  2.45it/s]\n",
      "D-Loss: 0.748603, G-Loss: 2.141378: 100%|██████████| 137/137 [00:55<00:00,  2.46it/s]\n",
      "D-Loss: 0.755464, G-Loss: 2.052109: 100%|██████████| 137/137 [00:55<00:00,  2.45it/s]\n",
      "D-Loss: 0.565630, G-Loss: 3.430903: 100%|██████████| 137/137 [00:55<00:00,  2.45it/s]\n",
      "Test D-Loss: 2.531417, Test G-Loss: 3.100507: 100%|██████████| 4/4 [00:06<00:00,  1.66s/it]\n"
     ]
    },
    {
     "name": "stdout",
     "output_type": "stream",
     "text": [
      "Test Epoch:, Avg D-Loss: 2.463568, Avg G-Loss: 3.078451\n"
     ]
    },
    {
     "name": "stderr",
     "output_type": "stream",
     "text": [
      "D-Loss: 0.524969, G-Loss: 2.354232: 100%|██████████| 137/137 [00:56<00:00,  2.44it/s]\n",
      "D-Loss: 0.387030, G-Loss: 3.461491: 100%|██████████| 137/137 [00:55<00:00,  2.45it/s]\n",
      "D-Loss: 0.539256, G-Loss: 2.125667: 100%|██████████| 137/137 [00:55<00:00,  2.45it/s]\n",
      "D-Loss: 0.659280, G-Loss: 2.101626: 100%|██████████| 137/137 [00:55<00:00,  2.45it/s]\n",
      "D-Loss: 0.618127, G-Loss: 1.734245: 100%|██████████| 137/137 [00:55<00:00,  2.45it/s]\n",
      "D-Loss: 0.479906, G-Loss: 1.915215: 100%|██████████| 137/137 [00:55<00:00,  2.45it/s]\n",
      "D-Loss: 0.453053, G-Loss: 2.329084: 100%|██████████| 137/137 [00:56<00:00,  2.44it/s]\n",
      "D-Loss: 0.632441, G-Loss: 2.097744: 100%|██████████| 137/137 [00:55<00:00,  2.45it/s]\n",
      "D-Loss: 0.440903, G-Loss: 2.889816: 100%|██████████| 137/137 [00:55<00:00,  2.45it/s]\n",
      "D-Loss: 0.783709, G-Loss: 3.181897: 100%|██████████| 137/137 [00:55<00:00,  2.46it/s]\n",
      "Test D-Loss: 3.178996, Test G-Loss: 2.067345: 100%|██████████| 4/4 [00:07<00:00,  1.79s/it]\n"
     ]
    },
    {
     "name": "stdout",
     "output_type": "stream",
     "text": [
      "Test Epoch:, Avg D-Loss: 3.011077, Avg G-Loss: 2.090920\n"
     ]
    },
    {
     "name": "stderr",
     "output_type": "stream",
     "text": [
      "D-Loss: 0.718868, G-Loss: 2.088688: 100%|██████████| 137/137 [00:56<00:00,  2.44it/s]\n",
      "D-Loss: 0.552349, G-Loss: 2.239918: 100%|██████████| 137/137 [00:55<00:00,  2.45it/s]\n",
      "D-Loss: 0.526205, G-Loss: 2.063013: 100%|██████████| 137/137 [00:56<00:00,  2.45it/s]\n",
      "D-Loss: 0.712476, G-Loss: 1.590597: 100%|██████████| 137/137 [00:55<00:00,  2.45it/s]\n",
      "D-Loss: 0.685998, G-Loss: 1.332453: 100%|██████████| 137/137 [00:55<00:00,  2.45it/s]\n",
      "D-Loss: 0.653974, G-Loss: 1.442719: 100%|██████████| 137/137 [00:55<00:00,  2.45it/s]\n",
      "D-Loss: 0.607405, G-Loss: 1.421432: 100%|██████████| 137/137 [00:56<00:00,  2.44it/s]\n",
      "D-Loss: 0.576419, G-Loss: 1.735458: 100%|██████████| 137/137 [00:55<00:00,  2.45it/s]\n",
      "D-Loss: 0.680935, G-Loss: 1.371719: 100%|██████████| 137/137 [00:56<00:00,  2.45it/s]\n",
      "D-Loss: 0.715068, G-Loss: 1.199748: 100%|██████████| 137/137 [00:56<00:00,  2.44it/s]\n",
      "Test D-Loss: 0.700026, Test G-Loss: 1.590862: 100%|██████████| 4/4 [00:07<00:00,  1.86s/it]\n"
     ]
    },
    {
     "name": "stdout",
     "output_type": "stream",
     "text": [
      "Test Epoch:, Avg D-Loss: 0.695368, Avg G-Loss: 1.550388\n"
     ]
    },
    {
     "name": "stderr",
     "output_type": "stream",
     "text": [
      "D-Loss: 0.635742, G-Loss: 1.329790: 100%|██████████| 137/137 [00:56<00:00,  2.45it/s]\n",
      "D-Loss: 0.590572, G-Loss: 1.803538: 100%|██████████| 137/137 [00:56<00:00,  2.45it/s]\n",
      "D-Loss: 0.705931, G-Loss: 1.339366: 100%|██████████| 137/137 [00:55<00:00,  2.45it/s]\n",
      "D-Loss: 0.701006, G-Loss: 1.211408: 100%|██████████| 137/137 [00:55<00:00,  2.45it/s]\n",
      "D-Loss: 0.688795, G-Loss: 1.254493: 100%|██████████| 137/137 [00:56<00:00,  2.44it/s]\n",
      "D-Loss: 0.702375, G-Loss: 1.320601: 100%|██████████| 137/137 [00:55<00:00,  2.46it/s]\n",
      "D-Loss: 0.672140, G-Loss: 1.276368: 100%|██████████| 137/137 [00:56<00:00,  2.44it/s]\n",
      "D-Loss: 0.655415, G-Loss: 1.375669: 100%|██████████| 137/137 [00:56<00:00,  2.44it/s]\n",
      "D-Loss: 0.628500, G-Loss: 1.359119: 100%|██████████| 137/137 [00:55<00:00,  2.45it/s]\n",
      "D-Loss: 0.875363, G-Loss: 1.195628: 100%|██████████| 137/137 [00:56<00:00,  2.44it/s]\n",
      "Test D-Loss: 1.266440, Test G-Loss: 2.813405: 100%|██████████| 4/4 [00:07<00:00,  1.81s/it]\n"
     ]
    },
    {
     "name": "stdout",
     "output_type": "stream",
     "text": [
      "Test Epoch:, Avg D-Loss: 1.262547, Avg G-Loss: 2.782713\n"
     ]
    },
    {
     "name": "stderr",
     "output_type": "stream",
     "text": [
      "D-Loss: 0.633309, G-Loss: 1.956859: 100%|██████████| 137/137 [00:56<00:00,  2.44it/s]\n",
      "D-Loss: 0.674300, G-Loss: 1.389488: 100%|██████████| 137/137 [00:55<00:00,  2.45it/s]\n",
      "D-Loss: 0.601363, G-Loss: 1.493647: 100%|██████████| 137/137 [00:55<00:00,  2.45it/s]\n",
      "D-Loss: 0.651214, G-Loss: 1.264459: 100%|██████████| 137/137 [00:55<00:00,  2.45it/s]\n",
      "D-Loss: 0.619151, G-Loss: 1.352008: 100%|██████████| 137/137 [00:56<00:00,  2.44it/s]\n",
      "D-Loss: 0.708281, G-Loss: 1.315050: 100%|██████████| 137/137 [00:56<00:00,  2.44it/s]\n",
      "D-Loss: 0.692800, G-Loss: 1.241167: 100%|██████████| 137/137 [00:55<00:00,  2.45it/s]\n",
      "D-Loss: 0.704434, G-Loss: 1.249054: 100%|██████████| 137/137 [00:56<00:00,  2.44it/s]\n",
      "D-Loss: 0.690960, G-Loss: 1.147964: 100%|██████████| 137/137 [00:55<00:00,  2.45it/s]\n",
      "D-Loss: 0.685049, G-Loss: 1.184870: 100%|██████████| 137/137 [00:56<00:00,  2.44it/s]\n",
      "Test D-Loss: 0.711253, Test G-Loss: 1.155524: 100%|██████████| 4/4 [00:06<00:00,  1.52s/it]\n"
     ]
    },
    {
     "name": "stdout",
     "output_type": "stream",
     "text": [
      "Test Epoch:, Avg D-Loss: 0.709658, Avg G-Loss: 1.173553\n"
     ]
    },
    {
     "name": "stderr",
     "output_type": "stream",
     "text": [
      "D-Loss: 0.731816, G-Loss: 1.178865: 100%|██████████| 137/137 [00:56<00:00,  2.44it/s]\n",
      "D-Loss: 0.657848, G-Loss: 1.231174: 100%|██████████| 137/137 [00:56<00:00,  2.44it/s]\n",
      "D-Loss: 0.695924, G-Loss: 1.160492: 100%|██████████| 137/137 [00:56<00:00,  2.45it/s]\n",
      "D-Loss: 0.681075, G-Loss: 1.067948: 100%|██████████| 137/137 [00:56<00:00,  2.44it/s]\n",
      "D-Loss: 0.689708, G-Loss: 1.117872: 100%|██████████| 137/137 [00:56<00:00,  2.44it/s]\n",
      "D-Loss: 0.712059, G-Loss: 1.172182: 100%|██████████| 137/137 [00:56<00:00,  2.44it/s]\n",
      "D-Loss: 0.698714, G-Loss: 1.114208: 100%|██████████| 137/137 [00:56<00:00,  2.45it/s]\n",
      "D-Loss: 0.685278, G-Loss: 1.033156: 100%|██████████| 137/137 [00:55<00:00,  2.45it/s]\n",
      "D-Loss: 0.698078, G-Loss: 1.028854: 100%|██████████| 137/137 [00:56<00:00,  2.44it/s]\n",
      "D-Loss: 0.697527, G-Loss: 1.069797: 100%|██████████| 137/137 [00:56<00:00,  2.44it/s]\n",
      "Test D-Loss: 0.687194, Test G-Loss: 1.122582: 100%|██████████| 4/4 [00:05<00:00,  1.37s/it]\n"
     ]
    },
    {
     "name": "stdout",
     "output_type": "stream",
     "text": [
      "Test Epoch:, Avg D-Loss: 0.688133, Avg G-Loss: 1.074575\n"
     ]
    },
    {
     "name": "stderr",
     "output_type": "stream",
     "text": [
      "D-Loss: 0.703817, G-Loss: 1.011519: 100%|██████████| 137/137 [00:56<00:00,  2.44it/s]\n",
      "D-Loss: 0.689077, G-Loss: 1.083906: 100%|██████████| 137/137 [00:55<00:00,  2.45it/s]\n",
      "D-Loss: 0.691697, G-Loss: 0.947679: 100%|██████████| 137/137 [00:56<00:00,  2.44it/s]\n",
      "D-Loss: 0.692795, G-Loss: 1.015584: 100%|██████████| 137/137 [00:56<00:00,  2.44it/s]\n",
      "D-Loss: 0.701835, G-Loss: 1.010977: 100%|██████████| 137/137 [00:55<00:00,  2.46it/s]\n",
      "D-Loss: 0.697530, G-Loss: 0.963799: 100%|██████████| 137/137 [00:55<00:00,  2.45it/s]\n",
      "D-Loss: 0.692870, G-Loss: 0.973105: 100%|██████████| 137/137 [00:56<00:00,  2.45it/s]\n",
      "D-Loss: 0.691344, G-Loss: 1.035023: 100%|██████████| 137/137 [00:56<00:00,  2.44it/s]\n",
      "D-Loss: 0.714495, G-Loss: 1.024577: 100%|██████████| 137/137 [00:56<00:00,  2.44it/s]\n",
      "D-Loss: 0.699501, G-Loss: 0.997986: 100%|██████████| 137/137 [00:56<00:00,  2.44it/s]\n",
      "Test D-Loss: 1.912871, Test G-Loss: 1.049901: 100%|██████████| 4/4 [00:06<00:00,  1.70s/it]\n"
     ]
    },
    {
     "name": "stdout",
     "output_type": "stream",
     "text": [
      "Test Epoch:, Avg D-Loss: 1.896185, Avg G-Loss: 1.010864\n"
     ]
    },
    {
     "name": "stderr",
     "output_type": "stream",
     "text": [
      "D-Loss: 0.691633, G-Loss: 1.034482: 100%|██████████| 137/137 [00:55<00:00,  2.45it/s]\n",
      "D-Loss: 0.697231, G-Loss: 0.943451: 100%|██████████| 137/137 [00:56<00:00,  2.44it/s]\n",
      "D-Loss: 0.695433, G-Loss: 1.042551: 100%|██████████| 137/137 [00:56<00:00,  2.44it/s]\n",
      "D-Loss: 0.695186, G-Loss: 0.938276: 100%|██████████| 137/137 [00:55<00:00,  2.45it/s]\n",
      "D-Loss: 0.689080, G-Loss: 0.976778: 100%|██████████| 137/137 [00:56<00:00,  2.44it/s]\n",
      "D-Loss: 0.694449, G-Loss: 0.935934: 100%|██████████| 137/137 [00:55<00:00,  2.45it/s]\n",
      "D-Loss: 0.689976, G-Loss: 0.983906: 100%|██████████| 137/137 [00:56<00:00,  2.44it/s]\n",
      "D-Loss: 0.694866, G-Loss: 0.919018: 100%|██████████| 137/137 [00:56<00:00,  2.44it/s]\n",
      "D-Loss: 0.707021, G-Loss: 0.971112: 100%|██████████| 137/137 [00:56<00:00,  2.44it/s]\n",
      "D-Loss: 0.693820, G-Loss: 0.912736: 100%|██████████| 137/137 [00:56<00:00,  2.44it/s]\n",
      "Test D-Loss: 0.732684, Test G-Loss: 1.157735: 100%|██████████| 4/4 [00:05<00:00,  1.29s/it]\n"
     ]
    },
    {
     "name": "stdout",
     "output_type": "stream",
     "text": [
      "Test Epoch:, Avg D-Loss: 0.740736, Avg G-Loss: 1.147257\n"
     ]
    },
    {
     "name": "stderr",
     "output_type": "stream",
     "text": [
      "D-Loss: 0.694623, G-Loss: 0.981068: 100%|██████████| 137/137 [00:56<00:00,  2.44it/s]\n",
      "D-Loss: 0.694333, G-Loss: 0.930071: 100%|██████████| 137/137 [00:55<00:00,  2.45it/s]\n",
      "D-Loss: 0.688502, G-Loss: 0.953383: 100%|██████████| 137/137 [00:56<00:00,  2.44it/s]\n",
      "D-Loss: 0.693554, G-Loss: 0.919664: 100%|██████████| 137/137 [00:56<00:00,  2.44it/s]\n",
      "D-Loss: 0.691554, G-Loss: 0.914940: 100%|██████████| 137/137 [00:55<00:00,  2.45it/s]\n",
      "D-Loss: 0.697508, G-Loss: 0.895628: 100%|██████████| 137/137 [00:56<00:00,  2.44it/s]\n",
      "D-Loss: 0.695740, G-Loss: 0.910215: 100%|██████████| 137/137 [00:56<00:00,  2.44it/s]\n",
      "D-Loss: 0.698318, G-Loss: 0.879005: 100%|██████████| 137/137 [00:56<00:00,  2.44it/s]\n",
      "D-Loss: 0.694477, G-Loss: 0.942918: 100%|██████████| 137/137 [00:56<00:00,  2.44it/s]\n",
      "D-Loss: 0.690500, G-Loss: 0.961519: 100%|██████████| 137/137 [00:56<00:00,  2.45it/s]\n",
      "Test D-Loss: 0.728384, Test G-Loss: 2.386967: 100%|██████████| 4/4 [00:07<00:00,  1.80s/it]\n"
     ]
    },
    {
     "name": "stdout",
     "output_type": "stream",
     "text": [
      "Test Epoch:, Avg D-Loss: 0.726750, Avg G-Loss: 2.372201\n"
     ]
    },
    {
     "name": "stderr",
     "output_type": "stream",
     "text": [
      "D-Loss: 0.709756, G-Loss: 0.975070: 100%|██████████| 137/137 [00:56<00:00,  2.44it/s]\n",
      "D-Loss: 0.691616, G-Loss: 0.949484: 100%|██████████| 137/137 [00:56<00:00,  2.44it/s]\n",
      "D-Loss: 0.695594, G-Loss: 0.935819: 100%|██████████| 137/137 [00:56<00:00,  2.44it/s]\n",
      "D-Loss: 0.695876, G-Loss: 0.889947: 100%|██████████| 137/137 [00:56<00:00,  2.44it/s]\n",
      "D-Loss: 0.693585, G-Loss: 0.867814: 100%|██████████| 137/137 [00:56<00:00,  2.44it/s]\n",
      "D-Loss: 0.688388, G-Loss: 0.952476: 100%|██████████| 137/137 [00:56<00:00,  2.44it/s]\n",
      "D-Loss: 0.690916, G-Loss: 0.867372: 100%|██████████| 137/137 [00:55<00:00,  2.45it/s]\n",
      "D-Loss: 0.690906, G-Loss: 0.915864: 100%|██████████| 137/137 [00:56<00:00,  2.44it/s]\n",
      "D-Loss: 0.694354, G-Loss: 0.886508: 100%|██████████| 137/137 [00:56<00:00,  2.45it/s]\n",
      "D-Loss: 0.691684, G-Loss: 0.888525: 100%|██████████| 137/137 [00:56<00:00,  2.44it/s]\n",
      "Test D-Loss: 0.700747, Test G-Loss: 0.874790: 100%|██████████| 4/4 [00:04<00:00,  1.22s/it]\n"
     ]
    },
    {
     "name": "stdout",
     "output_type": "stream",
     "text": [
      "Test Epoch:, Avg D-Loss: 0.700077, Avg G-Loss: 0.938334\n"
     ]
    },
    {
     "name": "stderr",
     "output_type": "stream",
     "text": [
      "D-Loss: 0.693583, G-Loss: 0.865133: 100%|██████████| 137/137 [00:56<00:00,  2.44it/s]\n",
      "D-Loss: 0.695243, G-Loss: 0.879882: 100%|██████████| 137/137 [00:56<00:00,  2.44it/s]\n",
      "D-Loss: 0.696216, G-Loss: 1.001737: 100%|██████████| 137/137 [00:56<00:00,  2.44it/s]\n",
      "D-Loss: 0.691479, G-Loss: 0.882122: 100%|██████████| 137/137 [00:55<00:00,  2.45it/s]\n",
      "D-Loss: 0.694538, G-Loss: 0.867182: 100%|██████████| 137/137 [00:55<00:00,  2.45it/s]\n",
      "D-Loss: 0.694393, G-Loss: 0.850820: 100%|██████████| 137/137 [00:56<00:00,  2.44it/s]\n",
      "D-Loss: 0.693759, G-Loss: 0.873662: 100%|██████████| 137/137 [00:56<00:00,  2.44it/s]\n",
      "D-Loss: 0.693640, G-Loss: 0.863912: 100%|██████████| 137/137 [00:56<00:00,  2.44it/s]\n",
      "D-Loss: 0.693399, G-Loss: 0.859075: 100%|██████████| 137/137 [00:56<00:00,  2.44it/s]\n",
      "D-Loss: 0.685633, G-Loss: 0.918064: 100%|██████████| 137/137 [00:55<00:00,  2.45it/s]\n",
      "Test D-Loss: 0.693841, Test G-Loss: 1.243224: 100%|██████████| 4/4 [00:05<00:00,  1.50s/it]\n"
     ]
    },
    {
     "name": "stdout",
     "output_type": "stream",
     "text": [
      "Test Epoch:, Avg D-Loss: 0.694047, Avg G-Loss: 1.233464\n"
     ]
    },
    {
     "name": "stderr",
     "output_type": "stream",
     "text": [
      "D-Loss: 0.690596, G-Loss: 0.845095: 100%|██████████| 137/137 [00:56<00:00,  2.44it/s]\n",
      "D-Loss: 0.693870, G-Loss: 0.838826: 100%|██████████| 137/137 [00:55<00:00,  2.45it/s]\n",
      "D-Loss: 0.698349, G-Loss: 0.835621: 100%|██████████| 137/137 [00:56<00:00,  2.44it/s]\n",
      "D-Loss: 0.692647, G-Loss: 0.836368: 100%|██████████| 137/137 [00:55<00:00,  2.45it/s]\n",
      "D-Loss: 0.694226, G-Loss: 0.847207: 100%|██████████| 137/137 [00:55<00:00,  2.45it/s]\n",
      "D-Loss: 0.691319, G-Loss: 0.843599: 100%|██████████| 137/137 [00:56<00:00,  2.45it/s]\n",
      "D-Loss: 0.695429, G-Loss: 0.857921: 100%|██████████| 137/137 [00:56<00:00,  2.44it/s]\n",
      "D-Loss: 0.694440, G-Loss: 0.865257: 100%|██████████| 137/137 [00:56<00:00,  2.44it/s]\n",
      "D-Loss: 0.693393, G-Loss: 0.854490: 100%|██████████| 137/137 [00:56<00:00,  2.44it/s]\n",
      "D-Loss: 0.693843, G-Loss: 0.807759: 100%|██████████| 137/137 [00:56<00:00,  2.44it/s]\n",
      "Test D-Loss: 0.700980, Test G-Loss: 1.467346: 100%|██████████| 4/4 [00:06<00:00,  1.60s/it]\n"
     ]
    },
    {
     "name": "stdout",
     "output_type": "stream",
     "text": [
      "Test Epoch:, Avg D-Loss: 0.701699, Avg G-Loss: 1.412722\n"
     ]
    },
    {
     "name": "stderr",
     "output_type": "stream",
     "text": [
      "D-Loss: 0.693913, G-Loss: 0.825524: 100%|██████████| 137/137 [00:56<00:00,  2.44it/s]\n",
      "D-Loss: 0.694548, G-Loss: 0.792268: 100%|██████████| 137/137 [00:56<00:00,  2.44it/s]\n",
      "D-Loss: 0.694391, G-Loss: 0.801665: 100%|██████████| 137/137 [00:56<00:00,  2.44it/s]\n",
      "D-Loss: 0.692935, G-Loss: 0.846591: 100%|██████████| 137/137 [00:55<00:00,  2.46it/s]\n",
      "D-Loss: 0.694553, G-Loss: 0.870078: 100%|██████████| 137/137 [00:56<00:00,  2.44it/s]\n",
      "D-Loss: 0.693064, G-Loss: 0.864377: 100%|██████████| 137/137 [00:56<00:00,  2.45it/s]\n",
      "D-Loss: 0.690313, G-Loss: 0.824695: 100%|██████████| 137/137 [00:55<00:00,  2.45it/s]\n",
      "D-Loss: 0.695543, G-Loss: 0.864320: 100%|██████████| 137/137 [00:56<00:00,  2.44it/s]\n",
      "D-Loss: 0.692958, G-Loss: 0.809151: 100%|██████████| 137/137 [00:55<00:00,  2.46it/s]\n",
      "D-Loss: 0.691134, G-Loss: 0.872635: 100%|██████████| 137/137 [00:56<00:00,  2.44it/s]\n",
      "Test D-Loss: 0.696273, Test G-Loss: 1.106085: 100%|██████████| 4/4 [00:05<00:00,  1.29s/it]\n"
     ]
    },
    {
     "name": "stdout",
     "output_type": "stream",
     "text": [
      "Test Epoch:, Avg D-Loss: 0.694633, Avg G-Loss: 1.141819\n"
     ]
    },
    {
     "name": "stderr",
     "output_type": "stream",
     "text": [
      "D-Loss: 0.691871, G-Loss: 0.847254: 100%|██████████| 137/137 [00:56<00:00,  2.45it/s]\n",
      "D-Loss: 0.692971, G-Loss: 0.782540: 100%|██████████| 137/137 [00:56<00:00,  2.44it/s]\n",
      "D-Loss: 0.693092, G-Loss: 0.859898: 100%|██████████| 137/137 [00:55<00:00,  2.45it/s]\n",
      "D-Loss: 0.693733, G-Loss: 0.844854: 100%|██████████| 137/137 [00:56<00:00,  2.44it/s]\n",
      "D-Loss: 0.693361, G-Loss: 0.844280: 100%|██████████| 137/137 [00:56<00:00,  2.44it/s]\n",
      "D-Loss: 0.693054, G-Loss: 0.845836: 100%|██████████| 137/137 [00:55<00:00,  2.45it/s]\n",
      "D-Loss: 0.692851, G-Loss: 0.768151: 100%|██████████| 137/137 [00:56<00:00,  2.44it/s]\n",
      "D-Loss: 0.694159, G-Loss: 0.876511: 100%|██████████| 137/137 [00:55<00:00,  2.45it/s]\n",
      "D-Loss: 0.692066, G-Loss: 0.835439: 100%|██████████| 137/137 [00:56<00:00,  2.45it/s]\n",
      "D-Loss: 0.695196, G-Loss: 0.829377: 100%|██████████| 137/137 [00:55<00:00,  2.45it/s]\n",
      "Test D-Loss: 0.696909, Test G-Loss: 0.929331: 100%|██████████| 4/4 [00:04<00:00,  1.09s/it]\n"
     ]
    },
    {
     "name": "stdout",
     "output_type": "stream",
     "text": [
      "Test Epoch:, Avg D-Loss: 0.697201, Avg G-Loss: 0.935997\n"
     ]
    },
    {
     "name": "stderr",
     "output_type": "stream",
     "text": [
      "D-Loss: 0.692630, G-Loss: 0.836192: 100%|██████████| 137/137 [00:56<00:00,  2.44it/s]\n",
      "D-Loss: 0.691760, G-Loss: 0.786077: 100%|██████████| 137/137 [00:55<00:00,  2.45it/s]\n",
      "D-Loss: 0.695305, G-Loss: 0.867778: 100%|██████████| 137/137 [00:56<00:00,  2.44it/s]\n",
      "D-Loss: 0.684805, G-Loss: 0.872430: 100%|██████████| 137/137 [00:56<00:00,  2.45it/s]\n",
      "D-Loss: 0.692896, G-Loss: 0.790001: 100%|██████████| 137/137 [00:56<00:00,  2.44it/s]\n",
      "D-Loss: 0.693202, G-Loss: 0.859989: 100%|██████████| 137/137 [00:56<00:00,  2.45it/s]\n",
      "D-Loss: 0.693344, G-Loss: 0.831569: 100%|██████████| 137/137 [00:56<00:00,  2.44it/s]\n",
      "D-Loss: 0.694607, G-Loss: 0.897202: 100%|██████████| 137/137 [00:55<00:00,  2.45it/s]\n",
      "D-Loss: 0.695788, G-Loss: 0.859705: 100%|██████████| 137/137 [00:55<00:00,  2.45it/s]\n",
      "D-Loss: 0.686917, G-Loss: 1.166725: 100%|██████████| 137/137 [00:56<00:00,  2.44it/s]\n",
      "Test D-Loss: 0.754375, Test G-Loss: 1.370385: 100%|██████████| 4/4 [00:05<00:00,  1.31s/it]\n"
     ]
    },
    {
     "name": "stdout",
     "output_type": "stream",
     "text": [
      "Test Epoch:, Avg D-Loss: 0.749175, Avg G-Loss: 1.333805\n"
     ]
    },
    {
     "name": "stderr",
     "output_type": "stream",
     "text": [
      "D-Loss: 0.749696, G-Loss: 1.158173: 100%|██████████| 137/137 [00:56<00:00,  2.44it/s]\n",
      "D-Loss: 0.695577, G-Loss: 1.046790: 100%|██████████| 137/137 [00:56<00:00,  2.44it/s]\n",
      "D-Loss: 0.686900, G-Loss: 0.947047: 100%|██████████| 137/137 [00:56<00:00,  2.44it/s]\n",
      "D-Loss: 0.697881, G-Loss: 0.841599: 100%|██████████| 137/137 [00:56<00:00,  2.44it/s]\n",
      "D-Loss: 0.691007, G-Loss: 0.856096: 100%|██████████| 137/137 [00:55<00:00,  2.45it/s]\n",
      "D-Loss: 0.691228, G-Loss: 0.842672: 100%|██████████| 137/137 [00:56<00:00,  2.44it/s]\n",
      "D-Loss: 0.690395, G-Loss: 0.829134: 100%|██████████| 137/137 [00:56<00:00,  2.44it/s]\n",
      "D-Loss: 0.693887, G-Loss: 0.793211: 100%|██████████| 137/137 [00:55<00:00,  2.45it/s]\n",
      "D-Loss: 0.691349, G-Loss: 0.844125: 100%|██████████| 137/137 [00:56<00:00,  2.44it/s]\n",
      "D-Loss: 0.694028, G-Loss: 0.826187: 100%|██████████| 137/137 [00:56<00:00,  2.44it/s]\n",
      "Test D-Loss: 0.696175, Test G-Loss: 1.047252: 100%|██████████| 4/4 [00:04<00:00,  1.07s/it]\n"
     ]
    },
    {
     "name": "stdout",
     "output_type": "stream",
     "text": [
      "Test Epoch:, Avg D-Loss: 0.695756, Avg G-Loss: 0.987902\n"
     ]
    },
    {
     "name": "stderr",
     "output_type": "stream",
     "text": [
      "D-Loss: 0.691007, G-Loss: 0.814708: 100%|██████████| 137/137 [00:56<00:00,  2.44it/s]\n",
      "D-Loss: 0.694631, G-Loss: 0.837085: 100%|██████████| 137/137 [00:55<00:00,  2.45it/s]\n",
      "D-Loss: 0.692914, G-Loss: 0.846657: 100%|██████████| 137/137 [00:55<00:00,  2.45it/s]\n",
      "D-Loss: 0.693797, G-Loss: 0.827885: 100%|██████████| 137/137 [00:56<00:00,  2.44it/s]\n",
      "D-Loss: 0.710336, G-Loss: 1.059793: 100%|██████████| 137/137 [00:55<00:00,  2.45it/s]\n",
      "D-Loss: 0.689037, G-Loss: 0.905522: 100%|██████████| 137/137 [00:55<00:00,  2.45it/s]\n",
      "D-Loss: 0.693596, G-Loss: 0.861881: 100%|██████████| 137/137 [00:56<00:00,  2.44it/s]\n",
      "D-Loss: 0.691900, G-Loss: 0.850141: 100%|██████████| 137/137 [00:56<00:00,  2.44it/s]\n",
      "D-Loss: 0.692595, G-Loss: 0.828920: 100%|██████████| 137/137 [00:56<00:00,  2.44it/s]\n",
      "D-Loss: 0.697450, G-Loss: 0.824558: 100%|██████████| 137/137 [00:55<00:00,  2.45it/s]\n",
      "Test D-Loss: 0.721619, Test G-Loss: 1.143005: 100%|██████████| 4/4 [00:04<00:00,  1.05s/it]\n"
     ]
    },
    {
     "name": "stdout",
     "output_type": "stream",
     "text": [
      "Test Epoch:, Avg D-Loss: 0.722472, Avg G-Loss: 1.135824\n"
     ]
    },
    {
     "name": "stderr",
     "output_type": "stream",
     "text": [
      "D-Loss: 0.690613, G-Loss: 0.827130: 100%|██████████| 137/137 [00:56<00:00,  2.44it/s]\n",
      "D-Loss: 0.693687, G-Loss: 0.814382: 100%|██████████| 137/137 [00:56<00:00,  2.44it/s]\n",
      "D-Loss: 0.694637, G-Loss: 0.803790: 100%|██████████| 137/137 [00:56<00:00,  2.44it/s]\n",
      "D-Loss: 0.692386, G-Loss: 0.799442: 100%|██████████| 137/137 [00:56<00:00,  2.44it/s]\n",
      "D-Loss: 0.692989, G-Loss: 0.825318: 100%|██████████| 137/137 [00:56<00:00,  2.44it/s]\n",
      "D-Loss: 0.694084, G-Loss: 0.797043: 100%|██████████| 137/137 [00:56<00:00,  2.44it/s]\n",
      "D-Loss: 0.693028, G-Loss: 0.804735: 100%|██████████| 137/137 [00:55<00:00,  2.45it/s]\n",
      "D-Loss: 0.693066, G-Loss: 0.780659: 100%|██████████| 137/137 [00:56<00:00,  2.45it/s]\n",
      "D-Loss: 0.695100, G-Loss: 0.808030: 100%|██████████| 137/137 [00:56<00:00,  2.45it/s]\n",
      "D-Loss: 0.691594, G-Loss: 0.820801: 100%|██████████| 137/137 [00:56<00:00,  2.44it/s]\n",
      "Test D-Loss: 0.694633, Test G-Loss: 0.954604: 100%|██████████| 4/4 [00:04<00:00,  1.01s/it]\n"
     ]
    },
    {
     "name": "stdout",
     "output_type": "stream",
     "text": [
      "Test Epoch:, Avg D-Loss: 0.694142, Avg G-Loss: 0.928564\n"
     ]
    },
    {
     "name": "stderr",
     "output_type": "stream",
     "text": [
      "D-Loss: 0.692469, G-Loss: 0.816650: 100%|██████████| 137/137 [00:56<00:00,  2.44it/s]\n",
      "D-Loss: 0.690732, G-Loss: 0.786716: 100%|██████████| 137/137 [00:56<00:00,  2.44it/s]\n",
      "D-Loss: 0.692577, G-Loss: 0.797290: 100%|██████████| 137/137 [00:56<00:00,  2.45it/s]\n",
      "D-Loss: 0.693908, G-Loss: 0.764302: 100%|██████████| 137/137 [00:56<00:00,  2.44it/s]\n",
      "D-Loss: 0.696350, G-Loss: 0.836879: 100%|██████████| 137/137 [00:55<00:00,  2.46it/s]\n",
      "D-Loss: 0.691723, G-Loss: 0.813095: 100%|██████████| 137/137 [00:56<00:00,  2.44it/s]\n",
      "D-Loss: 0.692368, G-Loss: 0.791470: 100%|██████████| 137/137 [00:56<00:00,  2.44it/s]\n",
      "D-Loss: 0.697441, G-Loss: 0.958853: 100%|██████████| 137/137 [00:56<00:00,  2.44it/s]\n",
      "D-Loss: 0.690152, G-Loss: 0.849005: 100%|██████████| 137/137 [00:56<00:00,  2.44it/s]\n",
      "D-Loss: 0.690620, G-Loss: 0.806051: 100%|██████████| 137/137 [00:56<00:00,  2.44it/s]\n",
      "Test D-Loss: 0.692192, Test G-Loss: 0.979128: 100%|██████████| 4/4 [00:04<00:00,  1.02s/it]\n"
     ]
    },
    {
     "name": "stdout",
     "output_type": "stream",
     "text": [
      "Test Epoch:, Avg D-Loss: 0.692640, Avg G-Loss: 1.009260\n"
     ]
    },
    {
     "name": "stderr",
     "output_type": "stream",
     "text": [
      "D-Loss: 0.691633, G-Loss: 0.784280: 100%|██████████| 137/137 [00:56<00:00,  2.44it/s]\n",
      "D-Loss: 0.699002, G-Loss: 0.784812: 100%|██████████| 137/137 [00:56<00:00,  2.44it/s]\n",
      "D-Loss: 0.697326, G-Loss: 0.812814: 100%|██████████| 137/137 [00:56<00:00,  2.44it/s]\n",
      "D-Loss: 0.694011, G-Loss: 0.789247: 100%|██████████| 137/137 [00:56<00:00,  2.44it/s]\n",
      "D-Loss: 0.693872, G-Loss: 0.805029: 100%|██████████| 137/137 [00:55<00:00,  2.45it/s]\n",
      "D-Loss: 0.691700, G-Loss: 0.791489: 100%|██████████| 137/137 [00:56<00:00,  2.44it/s]\n",
      "D-Loss: 0.693580, G-Loss: 0.804058: 100%|██████████| 137/137 [00:55<00:00,  2.46it/s]\n",
      "D-Loss: 0.696524, G-Loss: 0.838412: 100%|██████████| 137/137 [00:56<00:00,  2.44it/s]\n",
      "D-Loss: 0.693679, G-Loss: 0.785352: 100%|██████████| 137/137 [00:56<00:00,  2.44it/s]\n",
      "D-Loss: 0.694582, G-Loss: 0.838809: 100%|██████████| 137/137 [00:55<00:00,  2.46it/s]\n",
      "Test D-Loss: 0.695170, Test G-Loss: 0.841247: 100%|██████████| 4/4 [00:03<00:00,  1.05it/s]\n"
     ]
    },
    {
     "name": "stdout",
     "output_type": "stream",
     "text": [
      "Test Epoch:, Avg D-Loss: 0.695258, Avg G-Loss: 0.864753\n"
     ]
    },
    {
     "name": "stderr",
     "output_type": "stream",
     "text": [
      "D-Loss: 0.693714, G-Loss: 0.776107: 100%|██████████| 137/137 [00:56<00:00,  2.44it/s]\n",
      "D-Loss: 0.694508, G-Loss: 0.808065: 100%|██████████| 137/137 [00:55<00:00,  2.45it/s]\n",
      "D-Loss: 0.692761, G-Loss: 0.787460: 100%|██████████| 137/137 [00:56<00:00,  2.44it/s]\n",
      "D-Loss: 0.692575, G-Loss: 0.762726: 100%|██████████| 137/137 [00:55<00:00,  2.45it/s]\n",
      "D-Loss: 0.693814, G-Loss: 0.760452: 100%|██████████| 137/137 [00:55<00:00,  2.45it/s]\n",
      "D-Loss: 0.692785, G-Loss: 0.803650: 100%|██████████| 137/137 [00:55<00:00,  2.45it/s]\n",
      "D-Loss: 0.695844, G-Loss: 0.802345: 100%|██████████| 137/137 [00:56<00:00,  2.44it/s]\n",
      "D-Loss: 0.691590, G-Loss: 0.795295: 100%|██████████| 137/137 [00:55<00:00,  2.45it/s]\n",
      "D-Loss: 0.693839, G-Loss: 0.789831: 100%|██████████| 137/137 [00:55<00:00,  2.45it/s]\n",
      "D-Loss: 0.693729, G-Loss: 0.782000: 100%|██████████| 137/137 [00:56<00:00,  2.45it/s]\n",
      "Test D-Loss: 0.693973, Test G-Loss: 0.948532: 100%|██████████| 4/4 [00:03<00:00,  1.02it/s]\n"
     ]
    },
    {
     "name": "stdout",
     "output_type": "stream",
     "text": [
      "Test Epoch:, Avg D-Loss: 0.694157, Avg G-Loss: 0.956041\n"
     ]
    },
    {
     "name": "stderr",
     "output_type": "stream",
     "text": [
      "D-Loss: 0.693373, G-Loss: 0.769064: 100%|██████████| 137/137 [00:56<00:00,  2.44it/s]\n",
      "D-Loss: 0.693948, G-Loss: 0.781157: 100%|██████████| 137/137 [00:56<00:00,  2.44it/s]\n",
      "D-Loss: 0.693513, G-Loss: 0.817888: 100%|██████████| 137/137 [00:55<00:00,  2.46it/s]\n",
      "D-Loss: 0.693109, G-Loss: 0.781309: 100%|██████████| 137/137 [00:56<00:00,  2.44it/s]\n",
      "D-Loss: 0.692891, G-Loss: 0.795365: 100%|██████████| 137/137 [00:56<00:00,  2.44it/s]\n",
      "D-Loss: 0.693005, G-Loss: 0.776397: 100%|██████████| 137/137 [00:55<00:00,  2.46it/s]\n",
      "D-Loss: 0.693720, G-Loss: 0.799120: 100%|██████████| 137/137 [00:55<00:00,  2.45it/s]\n",
      "D-Loss: 0.693651, G-Loss: 0.791644: 100%|██████████| 137/137 [00:55<00:00,  2.45it/s]\n",
      "D-Loss: 0.693604, G-Loss: 0.782732: 100%|██████████| 137/137 [00:55<00:00,  2.45it/s]\n",
      "D-Loss: 0.693465, G-Loss: 0.779730: 100%|██████████| 137/137 [00:56<00:00,  2.44it/s]\n",
      "Test D-Loss: 0.693311, Test G-Loss: 0.922059: 100%|██████████| 4/4 [00:03<00:00,  1.04it/s]\n"
     ]
    },
    {
     "name": "stdout",
     "output_type": "stream",
     "text": [
      "Test Epoch:, Avg D-Loss: 0.693236, Avg G-Loss: 0.919963\n"
     ]
    },
    {
     "name": "stderr",
     "output_type": "stream",
     "text": [
      "D-Loss: 0.693314, G-Loss: 0.773360: 100%|██████████| 137/137 [00:56<00:00,  2.44it/s]\n",
      "D-Loss: 0.693223, G-Loss: 0.766645: 100%|██████████| 137/137 [00:55<00:00,  2.45it/s]\n",
      "D-Loss: 0.693732, G-Loss: 0.780691: 100%|██████████| 137/137 [00:55<00:00,  2.45it/s]\n",
      "D-Loss: 0.693599, G-Loss: 0.785260: 100%|██████████| 137/137 [00:56<00:00,  2.44it/s]\n",
      "D-Loss: 0.692925, G-Loss: 0.785255: 100%|██████████| 137/137 [00:55<00:00,  2.45it/s]\n",
      "D-Loss: 0.693306, G-Loss: 0.781318: 100%|██████████| 137/137 [00:56<00:00,  2.44it/s]\n",
      "D-Loss: 0.693543, G-Loss: 0.795329: 100%|██████████| 137/137 [00:56<00:00,  2.44it/s]\n",
      "D-Loss: 0.693074, G-Loss: 0.752278: 100%|██████████| 137/137 [00:56<00:00,  2.45it/s]\n",
      "D-Loss: 0.693310, G-Loss: 0.755680: 100%|██████████| 137/137 [00:56<00:00,  2.44it/s]\n",
      "D-Loss: 0.693048, G-Loss: 0.782088: 100%|██████████| 137/137 [00:55<00:00,  2.45it/s]\n",
      "Test D-Loss: 0.693582, Test G-Loss: 0.854662: 100%|██████████| 4/4 [00:03<00:00,  1.11it/s]\n"
     ]
    },
    {
     "name": "stdout",
     "output_type": "stream",
     "text": [
      "Test Epoch:, Avg D-Loss: 0.693738, Avg G-Loss: 0.886918\n"
     ]
    },
    {
     "name": "stderr",
     "output_type": "stream",
     "text": [
      "D-Loss: 0.693348, G-Loss: 0.783109: 100%|██████████| 137/137 [00:56<00:00,  2.44it/s]\n",
      "D-Loss: 0.695399, G-Loss: 0.824118: 100%|██████████| 137/137 [00:56<00:00,  2.45it/s]\n",
      "D-Loss: 0.693160, G-Loss: 0.756471: 100%|██████████| 137/137 [00:55<00:00,  2.46it/s]\n",
      "D-Loss: 0.693281, G-Loss: 0.775230: 100%|██████████| 137/137 [00:55<00:00,  2.46it/s]\n",
      "D-Loss: 0.692686, G-Loss: 0.762150: 100%|██████████| 137/137 [00:55<00:00,  2.46it/s]\n",
      "D-Loss: 0.692837, G-Loss: 0.767078: 100%|██████████| 137/137 [00:55<00:00,  2.46it/s]\n",
      "D-Loss: 0.692946, G-Loss: 0.758495: 100%|██████████| 137/137 [00:55<00:00,  2.46it/s]\n",
      "D-Loss: 0.694000, G-Loss: 0.754541: 100%|██████████| 137/137 [00:55<00:00,  2.48it/s]\n",
      "D-Loss: 0.693702, G-Loss: 0.772141: 100%|██████████| 137/137 [00:55<00:00,  2.46it/s]\n",
      "D-Loss: 0.693258, G-Loss: 0.771752: 100%|██████████| 137/137 [00:55<00:00,  2.47it/s]\n",
      "Test D-Loss: 0.697790, Test G-Loss: 1.068202: 100%|██████████| 4/4 [00:03<00:00,  1.14it/s]\n"
     ]
    },
    {
     "name": "stdout",
     "output_type": "stream",
     "text": [
      "Test Epoch:, Avg D-Loss: 0.697223, Avg G-Loss: 0.945357\n"
     ]
    },
    {
     "name": "stderr",
     "output_type": "stream",
     "text": [
      "D-Loss: 0.694238, G-Loss: 0.770642: 100%|██████████| 137/137 [00:55<00:00,  2.46it/s]\n",
      "D-Loss: 0.692858, G-Loss: 0.746823: 100%|██████████| 137/137 [00:55<00:00,  2.46it/s]\n",
      "D-Loss: 0.691829, G-Loss: 0.805698: 100%|██████████| 137/137 [00:55<00:00,  2.46it/s]\n",
      "D-Loss: 0.694165, G-Loss: 0.778285: 100%|██████████| 137/137 [00:55<00:00,  2.46it/s]\n",
      "D-Loss: 0.693556, G-Loss: 0.761269: 100%|██████████| 137/137 [00:55<00:00,  2.46it/s]\n",
      "D-Loss: 0.692637, G-Loss: 0.767018: 100%|██████████| 137/137 [00:56<00:00,  2.44it/s]\n",
      "D-Loss: 0.694189, G-Loss: 0.761574: 100%|██████████| 137/137 [00:55<00:00,  2.49it/s]\n",
      "D-Loss: 0.693656, G-Loss: 0.775242: 100%|██████████| 137/137 [00:56<00:00,  2.44it/s]\n",
      "D-Loss: 0.691922, G-Loss: 0.773085: 100%|██████████| 137/137 [00:56<00:00,  2.45it/s]\n",
      "D-Loss: 0.693480, G-Loss: 0.773124: 100%|██████████| 137/137 [00:56<00:00,  2.44it/s]\n",
      "Test D-Loss: 0.693469, Test G-Loss: 0.904514: 100%|██████████| 4/4 [00:03<00:00,  1.15it/s]\n"
     ]
    },
    {
     "name": "stdout",
     "output_type": "stream",
     "text": [
      "Test Epoch:, Avg D-Loss: 0.693537, Avg G-Loss: 0.885766\n"
     ]
    },
    {
     "name": "stderr",
     "output_type": "stream",
     "text": [
      "D-Loss: 0.693253, G-Loss: 0.770597: 100%|██████████| 137/137 [00:56<00:00,  2.44it/s]\n",
      "D-Loss: 0.694763, G-Loss: 0.760307: 100%|██████████| 137/137 [00:56<00:00,  2.44it/s]\n",
      "D-Loss: 0.692791, G-Loss: 0.766815: 100%|██████████| 137/137 [00:56<00:00,  2.44it/s]\n",
      "D-Loss: 0.692565, G-Loss: 0.767166: 100%|██████████| 137/137 [00:56<00:00,  2.44it/s]\n",
      "D-Loss: 0.693652, G-Loss: 0.778511: 100%|██████████| 137/137 [00:55<00:00,  2.45it/s]\n",
      "D-Loss: 0.692497, G-Loss: 0.774376: 100%|██████████| 137/137 [00:56<00:00,  2.44it/s]\n",
      "D-Loss: 0.693945, G-Loss: 0.796262: 100%|██████████| 137/137 [00:56<00:00,  2.45it/s]\n",
      "D-Loss: 0.694852, G-Loss: 0.771820: 100%|██████████| 137/137 [00:56<00:00,  2.44it/s]\n",
      "D-Loss: 0.692366, G-Loss: 0.748540: 100%|██████████| 137/137 [00:56<00:00,  2.44it/s]\n",
      "D-Loss: 0.693758, G-Loss: 0.773433: 100%|██████████| 137/137 [00:56<00:00,  2.44it/s]\n",
      "Test D-Loss: 0.694224, Test G-Loss: 0.909275: 100%|██████████| 4/4 [00:03<00:00,  1.18it/s]\n"
     ]
    },
    {
     "name": "stdout",
     "output_type": "stream",
     "text": [
      "Test Epoch:, Avg D-Loss: 0.694408, Avg G-Loss: 0.892468\n"
     ]
    },
    {
     "name": "stderr",
     "output_type": "stream",
     "text": [
      "D-Loss: 0.693193, G-Loss: 0.759880: 100%|██████████| 137/137 [00:56<00:00,  2.44it/s]\n",
      "D-Loss: 0.694730, G-Loss: 0.765704: 100%|██████████| 137/137 [00:56<00:00,  2.44it/s]\n",
      "D-Loss: 0.694385, G-Loss: 0.760360: 100%|██████████| 137/137 [00:56<00:00,  2.44it/s]\n",
      "D-Loss: 0.694618, G-Loss: 0.759717: 100%|██████████| 137/137 [00:55<00:00,  2.45it/s]\n",
      "D-Loss: 0.692898, G-Loss: 0.766104: 100%|██████████| 137/137 [00:56<00:00,  2.44it/s]\n",
      "D-Loss: 0.693330, G-Loss: 0.756246: 100%|██████████| 137/137 [00:56<00:00,  2.44it/s]\n",
      "D-Loss: 0.692537, G-Loss: 0.772008: 100%|██████████| 137/137 [00:56<00:00,  2.44it/s]\n",
      "D-Loss: 0.691591, G-Loss: 0.750479: 100%|██████████| 137/137 [00:56<00:00,  2.44it/s]\n",
      "D-Loss: 0.692858, G-Loss: 0.753465: 100%|██████████| 137/137 [00:55<00:00,  2.45it/s]\n",
      "D-Loss: 0.696836, G-Loss: 0.767774: 100%|██████████| 137/137 [00:56<00:00,  2.44it/s]\n",
      "Test D-Loss: 0.693478, Test G-Loss: 0.860542: 100%|██████████| 4/4 [00:03<00:00,  1.18it/s]\n"
     ]
    },
    {
     "name": "stdout",
     "output_type": "stream",
     "text": [
      "Test Epoch:, Avg D-Loss: 0.693719, Avg G-Loss: 0.885669\n"
     ]
    },
    {
     "name": "stderr",
     "output_type": "stream",
     "text": [
      "D-Loss: 0.693592, G-Loss: 0.775643: 100%|██████████| 137/137 [00:56<00:00,  2.44it/s]\n",
      "D-Loss: 0.694280, G-Loss: 0.759053: 100%|██████████| 137/137 [00:56<00:00,  2.44it/s]\n",
      "D-Loss: 0.693377, G-Loss: 0.761954: 100%|██████████| 137/137 [00:56<00:00,  2.44it/s]\n",
      "D-Loss: 0.692104, G-Loss: 0.765292: 100%|██████████| 137/137 [00:56<00:00,  2.44it/s]\n",
      "D-Loss: 0.691882, G-Loss: 0.760878: 100%|██████████| 137/137 [00:56<00:00,  2.44it/s]\n",
      "D-Loss: 0.693789, G-Loss: 0.773830: 100%|██████████| 137/137 [00:56<00:00,  2.45it/s]\n",
      "D-Loss: 0.691068, G-Loss: 0.761371: 100%|██████████| 137/137 [00:56<00:00,  2.45it/s]\n",
      "D-Loss: 0.692998, G-Loss: 0.771752: 100%|██████████| 137/137 [00:56<00:00,  2.44it/s]\n",
      "D-Loss: 0.692354, G-Loss: 0.760024: 100%|██████████| 137/137 [00:56<00:00,  2.45it/s]\n",
      "D-Loss: 0.692425, G-Loss: 0.765825: 100%|██████████| 137/137 [00:55<00:00,  2.45it/s]\n",
      "Test D-Loss: 0.693206, Test G-Loss: 0.906228: 100%|██████████| 4/4 [00:03<00:00,  1.19it/s]\n"
     ]
    },
    {
     "name": "stdout",
     "output_type": "stream",
     "text": [
      "Test Epoch:, Avg D-Loss: 0.693410, Avg G-Loss: 0.888414\n"
     ]
    },
    {
     "name": "stderr",
     "output_type": "stream",
     "text": [
      "D-Loss: 0.692215, G-Loss: 0.772926: 100%|██████████| 137/137 [00:56<00:00,  2.44it/s]\n",
      "D-Loss: 0.694826, G-Loss: 0.752170: 100%|██████████| 137/137 [00:56<00:00,  2.45it/s]\n",
      "D-Loss: 0.692211, G-Loss: 0.759270: 100%|██████████| 137/137 [00:56<00:00,  2.45it/s]\n",
      "D-Loss: 0.693684, G-Loss: 0.766526: 100%|██████████| 137/137 [00:56<00:00,  2.44it/s]\n",
      "D-Loss: 0.693613, G-Loss: 0.755113: 100%|██████████| 137/137 [00:56<00:00,  2.44it/s]\n",
      "D-Loss: 0.691962, G-Loss: 0.765675: 100%|██████████| 137/137 [00:56<00:00,  2.44it/s]\n",
      "D-Loss: 0.695966, G-Loss: 0.790249: 100%|██████████| 137/137 [00:56<00:00,  2.45it/s]\n",
      "D-Loss: 0.693339, G-Loss: 0.773331: 100%|██████████| 137/137 [00:56<00:00,  2.44it/s]\n",
      "D-Loss: 0.692347, G-Loss: 0.757113: 100%|██████████| 137/137 [00:56<00:00,  2.44it/s]\n",
      "D-Loss: 0.694060, G-Loss: 0.762882: 100%|██████████| 137/137 [00:56<00:00,  2.44it/s]\n",
      "Test D-Loss: 0.693496, Test G-Loss: 0.830936: 100%|██████████| 4/4 [00:03<00:00,  1.19it/s]\n"
     ]
    },
    {
     "name": "stdout",
     "output_type": "stream",
     "text": [
      "Test Epoch:, Avg D-Loss: 0.693783, Avg G-Loss: 0.877012\n"
     ]
    },
    {
     "name": "stderr",
     "output_type": "stream",
     "text": [
      "D-Loss: 0.692312, G-Loss: 0.747510: 100%|██████████| 137/137 [00:56<00:00,  2.44it/s]\n",
      "D-Loss: 0.692053, G-Loss: 0.742842: 100%|██████████| 137/137 [00:55<00:00,  2.45it/s]\n",
      "D-Loss: 0.692958, G-Loss: 0.776634: 100%|██████████| 137/137 [00:56<00:00,  2.44it/s]\n",
      "D-Loss: 0.693681, G-Loss: 0.763773: 100%|██████████| 137/137 [00:55<00:00,  2.45it/s]\n",
      "D-Loss: 0.692938, G-Loss: 0.757782: 100%|██████████| 137/137 [00:56<00:00,  2.44it/s]\n",
      "D-Loss: 0.695436, G-Loss: 0.761172: 100%|██████████| 137/137 [00:56<00:00,  2.44it/s]\n",
      "D-Loss: 0.690853, G-Loss: 0.764267: 100%|██████████| 137/137 [00:56<00:00,  2.45it/s]\n",
      "D-Loss: 0.693725, G-Loss: 0.771224: 100%|██████████| 137/137 [00:56<00:00,  2.44it/s]\n",
      "D-Loss: 0.693519, G-Loss: 0.751121: 100%|██████████| 137/137 [00:55<00:00,  2.45it/s]\n",
      "D-Loss: 0.693290, G-Loss: 0.746825: 100%|██████████| 137/137 [00:55<00:00,  2.45it/s]\n",
      "Test D-Loss: 0.694278, Test G-Loss: 0.896032: 100%|██████████| 4/4 [00:03<00:00,  1.22it/s]\n"
     ]
    },
    {
     "name": "stdout",
     "output_type": "stream",
     "text": [
      "Test Epoch:, Avg D-Loss: 0.693624, Avg G-Loss: 0.883091\n"
     ]
    },
    {
     "name": "stderr",
     "output_type": "stream",
     "text": [
      "D-Loss: 0.693135, G-Loss: 0.753769: 100%|██████████| 137/137 [00:56<00:00,  2.45it/s]\n",
      "D-Loss: 0.693250, G-Loss: 0.763178: 100%|██████████| 137/137 [00:56<00:00,  2.44it/s]\n",
      "D-Loss: 0.693173, G-Loss: 0.758329: 100%|██████████| 137/137 [00:56<00:00,  2.44it/s]\n",
      "D-Loss: 0.693093, G-Loss: 0.759150: 100%|██████████| 137/137 [00:55<00:00,  2.45it/s]\n",
      "D-Loss: 0.693007, G-Loss: 0.762603: 100%|██████████| 137/137 [00:55<00:00,  2.45it/s]\n",
      "D-Loss: 0.695377, G-Loss: 0.782730: 100%|██████████| 137/137 [00:55<00:00,  2.45it/s]\n",
      "D-Loss: 0.692998, G-Loss: 0.760537: 100%|██████████| 137/137 [00:55<00:00,  2.45it/s]\n",
      "D-Loss: 0.693231, G-Loss: 0.752186: 100%|██████████| 137/137 [00:55<00:00,  2.45it/s]\n",
      "D-Loss: 0.693763, G-Loss: 0.733353: 100%|██████████| 137/137 [00:55<00:00,  2.45it/s]\n",
      "D-Loss: 0.693666, G-Loss: 0.762146: 100%|██████████| 137/137 [00:55<00:00,  2.45it/s]\n",
      "Test D-Loss: 0.687793, Test G-Loss: 1.262834: 100%|██████████| 4/4 [00:04<00:00,  1.12s/it]\n"
     ]
    },
    {
     "name": "stdout",
     "output_type": "stream",
     "text": [
      "Test Epoch:, Avg D-Loss: 0.688341, Avg G-Loss: 1.181870\n"
     ]
    },
    {
     "name": "stderr",
     "output_type": "stream",
     "text": [
      "D-Loss: 0.692486, G-Loss: 0.792229: 100%|██████████| 137/137 [00:56<00:00,  2.44it/s]\n",
      "D-Loss: 0.692143, G-Loss: 0.747940: 100%|██████████| 137/137 [00:55<00:00,  2.45it/s]\n",
      "D-Loss: 0.692447, G-Loss: 0.748683: 100%|██████████| 137/137 [00:56<00:00,  2.44it/s]\n",
      "D-Loss: 0.693956, G-Loss: 0.762075: 100%|██████████| 137/137 [00:56<00:00,  2.44it/s]\n",
      "D-Loss: 0.691751, G-Loss: 0.771436: 100%|██████████| 137/137 [00:56<00:00,  2.44it/s]\n",
      "D-Loss: 0.694620, G-Loss: 0.749700: 100%|██████████| 137/137 [00:56<00:00,  2.44it/s]\n",
      "D-Loss: 0.691453, G-Loss: 0.750819: 100%|██████████| 137/137 [00:56<00:00,  2.44it/s]\n",
      "D-Loss: 0.694153, G-Loss: 0.729487: 100%|██████████| 137/137 [00:56<00:00,  2.44it/s]\n",
      "D-Loss: 0.693582, G-Loss: 0.742059: 100%|██████████| 137/137 [00:55<00:00,  2.45it/s]\n",
      "D-Loss: 0.695683, G-Loss: 0.732483: 100%|██████████| 137/137 [00:56<00:00,  2.44it/s]\n",
      "Test D-Loss: 0.707255, Test G-Loss: 0.787401: 100%|██████████| 4/4 [00:03<00:00,  1.24it/s]\n"
     ]
    },
    {
     "name": "stdout",
     "output_type": "stream",
     "text": [
      "Test Epoch:, Avg D-Loss: 0.705992, Avg G-Loss: 0.783649\n"
     ]
    },
    {
     "name": "stderr",
     "output_type": "stream",
     "text": [
      "D-Loss: 0.694516, G-Loss: 0.746220: 100%|██████████| 137/137 [00:56<00:00,  2.44it/s]\n",
      "D-Loss: 0.692152, G-Loss: 0.749415: 100%|██████████| 137/137 [00:56<00:00,  2.44it/s]\n",
      "D-Loss: 0.695638, G-Loss: 0.747259: 100%|██████████| 137/137 [00:55<00:00,  2.45it/s]\n",
      "D-Loss: 0.692877, G-Loss: 0.758573: 100%|██████████| 137/137 [00:56<00:00,  2.44it/s]\n",
      "D-Loss: 0.691943, G-Loss: 0.747344: 100%|██████████| 137/137 [00:55<00:00,  2.45it/s]\n",
      "D-Loss: 0.693394, G-Loss: 0.747072: 100%|██████████| 137/137 [00:55<00:00,  2.45it/s]\n",
      "D-Loss: 0.693925, G-Loss: 0.746648: 100%|██████████| 137/137 [00:56<00:00,  2.44it/s]\n",
      "D-Loss: 0.689963, G-Loss: 0.774027: 100%|██████████| 137/137 [00:56<00:00,  2.45it/s]\n",
      "D-Loss: 0.692335, G-Loss: 0.737882: 100%|██████████| 137/137 [00:55<00:00,  2.45it/s]\n",
      "D-Loss: 0.697735, G-Loss: 0.753175: 100%|██████████| 137/137 [00:56<00:00,  2.45it/s]\n",
      "Test D-Loss: 0.704088, Test G-Loss: 1.188976: 100%|██████████| 4/4 [00:03<00:00,  1.17it/s]\n"
     ]
    },
    {
     "name": "stdout",
     "output_type": "stream",
     "text": [
      "Test Epoch:, Avg D-Loss: 0.704303, Avg G-Loss: 1.164078\n"
     ]
    },
    {
     "name": "stderr",
     "output_type": "stream",
     "text": [
      "D-Loss: 0.690483, G-Loss: 0.757419: 100%|██████████| 137/137 [00:55<00:00,  2.45it/s]\n",
      "D-Loss: 0.686525, G-Loss: 0.789124: 100%|██████████| 137/137 [00:55<00:00,  2.45it/s]\n",
      "D-Loss: 0.690921, G-Loss: 0.772987: 100%|██████████| 137/137 [00:56<00:00,  2.44it/s]\n",
      "D-Loss: 0.689821, G-Loss: 0.771302: 100%|██████████| 137/137 [00:55<00:00,  2.45it/s]\n",
      "D-Loss: 0.693018, G-Loss: 0.761866: 100%|██████████| 137/137 [00:56<00:00,  2.44it/s]\n",
      "D-Loss: 0.688309, G-Loss: 0.757785: 100%|██████████| 137/137 [00:56<00:00,  2.44it/s]\n",
      "D-Loss: 0.686202, G-Loss: 0.797375: 100%|██████████| 137/137 [00:56<00:00,  2.44it/s]\n",
      "D-Loss: 0.677774, G-Loss: 1.183184: 100%|██████████| 137/137 [00:56<00:00,  2.44it/s]\n",
      "D-Loss: 0.733910, G-Loss: 0.921015: 100%|██████████| 137/137 [00:56<00:00,  2.44it/s]\n",
      "D-Loss: 0.720036, G-Loss: 0.836728: 100%|██████████| 137/137 [00:56<00:00,  2.44it/s]\n",
      "Test D-Loss: 0.832197, Test G-Loss: 1.748896: 100%|██████████| 4/4 [00:05<00:00,  1.47s/it]\n"
     ]
    },
    {
     "name": "stdout",
     "output_type": "stream",
     "text": [
      "Test Epoch:, Avg D-Loss: 0.846554, Avg G-Loss: 1.770144\n"
     ]
    },
    {
     "name": "stderr",
     "output_type": "stream",
     "text": [
      "D-Loss: 0.692203, G-Loss: 0.827905: 100%|██████████| 137/137 [00:55<00:00,  2.45it/s]\n",
      "D-Loss: 0.851391, G-Loss: 1.413791: 100%|██████████| 137/137 [00:56<00:00,  2.44it/s]\n",
      "D-Loss: 0.694288, G-Loss: 0.800225: 100%|██████████| 137/137 [00:56<00:00,  2.43it/s]\n",
      "Train Epoch 384:   0%|          | 0/137 [00:00<?, ?it/s]Exception ignored in: <function _releaseLock at 0x7fed5959f560>\n",
      "Traceback (most recent call last):\n",
      "  File \"/home/cqilab/anaconda3/envs/sam/lib/python3.11/logging/__init__.py\", line 237, in _releaseLock\n",
      "    def _releaseLock():\n",
      "    \n",
      "KeyboardInterrupt: \n",
      "D-Loss: 0.692232, G-Loss: 0.765598:  19%|█▉        | 26/137 [00:11<00:44,  2.50it/s]"
     ]
    }
   ],
   "source": [
    "trainer = Engine(discriminator, generator, optimizer_disc, optimizer_gen, device, ema=None)\n",
    "\n",
    "# Load the saved model if load_saved_model is set to True\n",
    "if load_saved_model:\n",
    "\tdiscriminator.load_state_dict(torch.load(f'logs/{discriminator_name_to_load}'))\n",
    "\tgenerator.load_state_dict(torch.load(f'logs/{generator_name_to_load}'))\n",
    " \n",
    "# Count the total number of trainable parameters\n",
    "model_parameters1 = filter(lambda p: p.requires_grad, discriminator.parameters())\n",
    "model_parameters2 = filter(lambda p: p.requires_grad, generator.parameters())\n",
    "params = sum([np.prod(p.size()) for p in model_parameters1]) + sum([np.prod(p.size()) for p in model_parameters2])\n",
    "print('======Total trainable parameters: ', params)\n",
    "\n",
    "for epoch in range(trainer.cur_epoch, training_epoch):\n",
    "\ttrainer.train(dataloader_train)\n",
    "\n",
    "\t# Test the model every 20 epochs and save it to logs folder\n",
    "\tif (epoch) % 10 == 0:\n",
    "\t\ttrainer.test(dataloader_test)\n",
    "\t\ttorch.save(discriminator.state_dict(), os.path.join('logs', discriminator_name_to_load))\n",
    "\t\ttorch.save(generator.state_dict(), os.path.join('logs', generator_name_to_load))\n"
   ]
  }
 ],
 "metadata": {
  "kernelspec": {
   "display_name": "sam",
   "language": "python",
   "name": "python3"
  },
  "language_info": {
   "codemirror_mode": {
    "name": "ipython",
    "version": 3
   },
   "file_extension": ".py",
   "mimetype": "text/x-python",
   "name": "python",
   "nbconvert_exporter": "python",
   "pygments_lexer": "ipython3",
   "version": "3.11.3"
  }
 },
 "nbformat": 4,
 "nbformat_minor": 2
}
